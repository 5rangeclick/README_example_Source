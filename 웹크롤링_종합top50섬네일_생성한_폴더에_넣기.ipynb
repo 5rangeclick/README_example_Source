{
  "nbformat": 4,
  "nbformat_minor": 0,
  "metadata": {
    "colab": {
      "provenance": [],
      "authorship_tag": "ABX9TyMz1Bu7Im+fVfZFoP1pD3K1",
      "include_colab_link": true
    },
    "kernelspec": {
      "name": "python3",
      "display_name": "Python 3"
    },
    "language_info": {
      "name": "python"
    }
  },
  "cells": [
    {
      "cell_type": "markdown",
      "metadata": {
        "id": "view-in-github",
        "colab_type": "text"
      },
      "source": [
        "<a href=\"https://colab.research.google.com/github/5rangeclick/README_example_Source/blob/main/%EC%9B%B9%ED%81%AC%EB%A1%A4%EB%A7%81_%EC%A2%85%ED%95%A9top50%EC%84%AC%EB%84%A4%EC%9D%BC_%EC%83%9D%EC%84%B1%ED%95%9C_%ED%8F%B4%EB%8D%94%EC%97%90_%EB%84%A3%EA%B8%B0.ipynb\" target=\"_parent\"><img src=\"https://colab.research.google.com/assets/colab-badge.svg\" alt=\"Open In Colab\"/></a>"
      ]
    },
    {
      "cell_type": "code",
      "execution_count": 33,
      "metadata": {
        "colab": {
          "base_uri": "https://localhost:8080/"
        },
        "id": "fN1b0cqJMG1n",
        "outputId": "2e6b2eae-7541-40ff-e784-54db45872148"
      },
      "outputs": [
        {
          "output_type": "stream",
          "name": "stdout",
          "text": [
            "mkdir: cannot create directory ‘종합_top50’: File exists\n"
          ]
        }
      ],
      "source": [
        "!mkdir 종합_top50"
      ]
    },
    {
      "cell_type": "code",
      "source": [
        "import requests\n",
        "from bs4 import BeautifulSoup\n",
        "import os"
      ],
      "metadata": {
        "id": "Y4y6WQskMLLF"
      },
      "execution_count": 34,
      "outputs": []
    },
    {
      "cell_type": "code",
      "source": [
        "url ='https://www.aladin.co.kr/shop/common/wbest.aspx?BestType=Bestseller&BranchType=1&CID=55890'\n",
        "resp = requests.get(url)\n",
        "resp\n",
        "\n",
        "soup = BeautifulSoup(resp.content, 'lxml')\n",
        "img_tags = soup.select('div.flipcover_in img') #[0] 있었던 건 하나 뽑아 내는 거. 지금은 50개 나오니까 잘 된 것\n",
        "\n",
        "for img_tag in img_tags:\n",
        "    img_src = img_tag['src']\n",
        "    img_resp = requests.get(img_src) #이 밑에 with open까지 한번에 or 따로 for문 만들어주든지.\n",
        "    \n",
        "    with open('/content/thum.jpg', 'wb') as f:\n",
        "        f.write(img_resp.content)\n"
      ],
      "metadata": {
        "id": "vzltvls2MYA7"
      },
      "execution_count": 35,
      "outputs": []
    },
    {
      "cell_type": "code",
      "source": [
        "!pwd"
      ],
      "metadata": {
        "colab": {
          "base_uri": "https://localhost:8080/"
        },
        "id": "l4Pmqc_gMgBr",
        "outputId": "42065c1d-8921-4be2-f5f0-51e88236b72d"
      },
      "execution_count": 23,
      "outputs": [
        {
          "output_type": "stream",
          "name": "stdout",
          "text": [
            "/content\n"
          ]
        }
      ]
    },
    {
      "cell_type": "code",
      "source": [],
      "metadata": {
        "id": "NDCl7rPrSOwl"
      },
      "execution_count": null,
      "outputs": []
    }
  ]
}